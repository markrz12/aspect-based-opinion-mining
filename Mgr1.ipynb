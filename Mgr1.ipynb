{
 "cells": [
  {
   "cell_type": "code",
   "execution_count": null,
   "id": "97530cc4",
   "metadata": {
    "scrolled": true
   },
   "outputs": [],
   "source": [
    "import pandas as pd\n",
    "import spacy\n",
    "import steamreviews\n",
    "import json\n",
    "import csv\n",
    "import os\n",
    "import glob\n",
    "import json\n",
    "import matplotlib.pyplot as plt\n",
    "import nltk\n",
    "import wordcloud\n",
    "import re\n",
    "import plotly\n",
    "import seaborn as sns\n",
    "import stanza\n",
    "import string \n",
    "import joblib\n",
    "\n",
    "from scipy.stats import pearsonr\n",
    "from scipy.cluster.hierarchy import dendrogram, linkage\n",
    "from scipy.cluster.hierarchy import fcluster\n",
    "from wordcloud import WordCloud\n",
    "from pandas.io.json import json_normalize\n",
    "from nltk.corpus import stopwords\n",
    "from tqdm.notebook import trange, tqdm\n",
    "from sklearn.cluster import KMeans\n",
    "from collections import defaultdict\n",
    "from scipy.stats import pearsonr\n",
    "from collections import Counter\n",
    "import matplotlib as mpl"
   ]
  },
  {
   "cell_type": "markdown",
   "id": "d74e3e2b",
   "metadata": {},
   "source": [
    "## Reviews download\n",
    "https://pypi.org/project/steamreviews/"
   ]
  },
  {
   "cell_type": "raw",
   "id": "287451f2",
   "metadata": {},
   "source": [
    "list_of_app_ids = [219150, 1172620, 460950, 262060, 250320, 210970, 620, 736260, \n",
    "                   219890, 289070, 427520, 257510, 304430, 400, 394360, 550,\n",
    "                   632470, 294100, 646570, 1150690, 1341290, 1515210, 860510]\n",
    "\n",
    "def get_reviews(list_of_app_ids):\n",
    "    request_params = dict()\n",
    "    request_params['language'] = 'english'\n",
    "    request_params['day_range'] = '365'\n",
    "    request_params['filter'] = 'all'\n",
    "    for app_id in list_of_app_ids:\n",
    "        review_dict, query_count = steamreviews.download_reviews_for_app_id(app_id,chosen_request_params=request_params)\n",
    "    return review_dict, query_count\n",
    "get_reviews(list_of_app_ids);"
   ]
  },
  {
   "cell_type": "code",
   "execution_count": null,
   "id": "f90ca69f",
   "metadata": {},
   "outputs": [],
   "source": [
    "dir_name = \"data\"\n",
    "reviews_jsons = glob.glob(f\"{dir_name}/*\")\n",
    "reviews_jsons"
   ]
  },
  {
   "cell_type": "code",
   "execution_count": null,
   "id": "35052b29",
   "metadata": {},
   "outputs": [],
   "source": [
    "title_dict = {\"219150\": \"Hotline Miami\",\n",
    "              \"1172620\" : \"Sea of Thieves\",\n",
    "              \"460950\" : \"Katana ZERO\",\n",
    "              \"262060\" : \"Darkest Dungeon\",\n",
    "              \"250320\" : \"The Wolf Among Us\",\n",
    "              \"210970\" : \"The Witness\",\n",
    "              \"620\" : \"Portal 2\",\n",
    "              \"736260\" : \"Baba Is You\",\n",
    "              \"219890\" : \"Antichamber\",\n",
    "              \"289070\" : \"Sid Meier's Civilization VI\",\n",
    "              \"427520\" : \"Factorio\",\n",
    "              \"257510\" : \"The Talos Principle\",\n",
    "             \"304430\" : \"INSIDE\",\n",
    "             \"400\" : \"Portal\",\n",
    "             \"394360\" : \"Hearts of Iron IV\",\n",
    "             \"632470\" : \"Disco Elysium\",\n",
    "             \"294100\" : \"RimWorld\",\n",
    "              \"646570\" : \"Slay the Spire\",\n",
    "              \"1150690\" : \"Omori\",\n",
    "              \"1341290\" : \"We Were Here Forever\",\n",
    "              \"1515210\" : \"The Past Within\",\n",
    "              \"860510\" : \"Little Nightmares II\",\n",
    "              \"550\" : \"Left 4 Dead 2\"}"
   ]
  },
  {
   "cell_type": "code",
   "execution_count": null,
   "id": "966249bc",
   "metadata": {},
   "outputs": [],
   "source": [
    "genre_dict = {\"219150\": \"A\",\n",
    "              \"1172620\" : \"A\",\n",
    "              \"460950\" : \"A\",\n",
    "              \"262060\" : \"R\",\n",
    "              \"250320\" : \"R\",\n",
    "              \"210970\" : \"P\",\n",
    "              \"620\" : \"P\",\n",
    "              \"736260\" : \"P\",\n",
    "              \"219890\" : \"P\",\n",
    "              \"289070\" : \"S\",\n",
    "              \"427520\" : \"S\",\n",
    "              \"257510\" : \"P\",\n",
    "              \"304430\" : \"P\",\n",
    "             \"400\" : \"P\",\n",
    "             \"394360\" : \"S\",\n",
    "             \"632470\" : \"R\",\n",
    "             \"294100\" : \"S\",\n",
    "             \"646570\" : \"R\",\n",
    "             \"1150690\" : \"R\",\n",
    "             \"1341290\" : \"P\",\n",
    "             \"1515210\" : \"P\",\n",
    "             \"860510\" : \"P\",\n",
    "             \"550\" : \"A\"}"
   ]
  },
  {
   "cell_type": "code",
   "execution_count": null,
   "id": "3b4bcccd",
   "metadata": {},
   "outputs": [],
   "source": [
    "data_list = []\n",
    "for i in reviews_jsons:\n",
    "    with open(i, encoding = \"utf-8\") as json_file:\n",
    "        json_data = json.load(json_file)\n",
    "        reviews = json_data['reviews']\n",
    "        file_name = json_file.name.split('.')[0].split('_')[1]\n",
    "        for key in reviews.keys():\n",
    "            data_list.append([title_dict.get(file_name),genre_dict.get(file_name),reviews[key]['author']['steamid'], reviews[key]['votes_up'], \n",
    "                          reviews[key]['review'], reviews[key]['weighted_vote_score'], reviews[key]['voted_up'],\n",
    "                          reviews[key]['author']['num_games_owned'], reviews[key]['author']['playtime_at_review'],\n",
    "                          reviews[key]['author']['num_reviews'], \n",
    "                          reviews[key][\"timestamp_created\"] ])\n",
    "df = pd.DataFrame(data_list, columns = [\"title\", \"genre\",\"steamid\", \"votes_up\", \"review\", \"weighted_vote_score\", \"voted_up\",\n",
    "                                        \"num_games_owned\", \"playtime_at_review\", \"num_reviews\", \"timestamp_created\"])"
   ]
  },
  {
   "cell_type": "code",
   "execution_count": null,
   "id": "479eea05",
   "metadata": {},
   "outputs": [],
   "source": [
    "df.sample(frac=0.3).head()"
   ]
  },
  {
   "cell_type": "code",
   "execution_count": null,
   "id": "711e9301",
   "metadata": {},
   "outputs": [],
   "source": [
    "df['timestamp_created'] = pd.to_datetime(df['timestamp_created'], unit='s')"
   ]
  },
  {
   "cell_type": "markdown",
   "id": "3eabea1f",
   "metadata": {},
   "source": [
    "## Preprocessing"
   ]
  },
  {
   "cell_type": "markdown",
   "id": "898d5730",
   "metadata": {},
   "source": [
    "1. Braki danych\n",
    "2. Usunięcie duplikatów\n",
    "4. Usunięcie recenzjii krótszych niż 3 słowa\n",
    "9. Usunięcie znaków spcjalnych \n",
    "10. \"Text lowering\"\n",
    "6. Usunięcie znaków interpunkcyjnych i liczb\n",
    "8. Usunięcie tytułów gier z recenzji\n",
    "7. Tokenizacja\n",
    "8. Part-of-speech tagging\n",
    "9. Lematyzacja"
   ]
  },
  {
   "cell_type": "markdown",
   "id": "8345b51a",
   "metadata": {},
   "source": [
    "#### Braki danych"
   ]
  },
  {
   "cell_type": "code",
   "execution_count": null,
   "id": "ff18171b",
   "metadata": {},
   "outputs": [],
   "source": [
    "df.isna().sum()"
   ]
  },
  {
   "cell_type": "markdown",
   "id": "35e6c5ea",
   "metadata": {},
   "source": [
    "#### Usunięcie duplikatów"
   ]
  },
  {
   "cell_type": "code",
   "execution_count": null,
   "id": "f68ae520",
   "metadata": {},
   "outputs": [],
   "source": [
    "df.duplicated(subset='review').sum()"
   ]
  },
  {
   "cell_type": "code",
   "execution_count": null,
   "id": "0636c4b8",
   "metadata": {},
   "outputs": [],
   "source": [
    "df[df.duplicated(subset='review')].sample(20)"
   ]
  },
  {
   "cell_type": "code",
   "execution_count": null,
   "id": "4ef0a284",
   "metadata": {},
   "outputs": [],
   "source": [
    "(df.duplicated(subset='review') == False).sum()"
   ]
  },
  {
   "cell_type": "code",
   "execution_count": null,
   "id": "423c3436",
   "metadata": {},
   "outputs": [],
   "source": [
    "df = df[df.duplicated(subset='review') == False]"
   ]
  },
  {
   "cell_type": "code",
   "execution_count": null,
   "id": "8cc6596f",
   "metadata": {},
   "outputs": [],
   "source": [
    "df.duplicated(subset='review').sum()"
   ]
  },
  {
   "cell_type": "markdown",
   "id": "93835c9f",
   "metadata": {},
   "source": [
    "#### Długość recenzji"
   ]
  },
  {
   "cell_type": "code",
   "execution_count": null,
   "id": "2afbbb91",
   "metadata": {},
   "outputs": [],
   "source": [
    "df[\"temp_review_len\"] = df[\"review\"].apply(lambda x: x.split(\" \").__len__())\n",
    "df[\"temp_review_len\"].describe()"
   ]
  },
  {
   "cell_type": "raw",
   "id": "da102f48",
   "metadata": {},
   "source": [
    "df[df[\"temp_review_len\"] == df[\"temp_review_len\"].max()]['review'].values"
   ]
  },
  {
   "cell_type": "code",
   "execution_count": null,
   "id": "7418f464",
   "metadata": {},
   "outputs": [],
   "source": [
    "df[df[\"temp_review_len\"] < 4].groupby(by=[\"genre\"]).count()"
   ]
  },
  {
   "cell_type": "code",
   "execution_count": null,
   "id": "1f24f110",
   "metadata": {},
   "outputs": [],
   "source": [
    "df = df[df[\"temp_review_len\"] >= 3]"
   ]
  },
  {
   "cell_type": "code",
   "execution_count": null,
   "id": "78e1e86b",
   "metadata": {},
   "outputs": [],
   "source": [
    "suma = 0\n",
    "for i in df[\"temp_review_len\"]:\n",
    "    suma += i"
   ]
  },
  {
   "cell_type": "code",
   "execution_count": null,
   "id": "8f72cb2c",
   "metadata": {},
   "outputs": [],
   "source": [
    "print(\"Ilość słów:\", suma,\n",
    "     \"Ilość recenzji:\", len(df[\"temp_review_len\"]))"
   ]
  },
  {
   "cell_type": "code",
   "execution_count": null,
   "id": "6027b3db",
   "metadata": {},
   "outputs": [],
   "source": [
    "df = df.drop([\"temp_review_len\"], axis=1)"
   ]
  },
  {
   "cell_type": "markdown",
   "id": "2afffdfd",
   "metadata": {},
   "source": [
    "### Wordcloud"
   ]
  },
  {
   "cell_type": "code",
   "execution_count": null,
   "id": "784253ee",
   "metadata": {},
   "outputs": [],
   "source": [
    "txt = ' '.join(i for i in df[\"review\"])\n",
    "wordcloud = WordCloud(max_font_size = 180,\n",
    "                max_words = 120,\n",
    "                width = 1200,\n",
    "                height = 800,\n",
    "                background_color = \"black\",\n",
    "                colormap='RdPu_r').generate(txt)\n",
    "\n",
    "plt.figure(figsize=(12,6))\n",
    "plt.axis('off')\n",
    "plt.imshow(wordcloud)\n",
    "plt.show()"
   ]
  },
  {
   "cell_type": "code",
   "execution_count": null,
   "id": "15e5c0f8",
   "metadata": {},
   "outputs": [],
   "source": [
    "txt = ' '.join(i for i in df[df['genre'] == \"A\"]['review'])\n",
    "wordcloud = WordCloud(max_font_size = 150,\n",
    "                max_words = 30,\n",
    "                width = 600,\n",
    "                height = 400,\n",
    "                background_color = \"black\",\n",
    "                colormap='RdPu_r').generate(txt)\n",
    "\n",
    "plt.figure(figsize=(12,6))\n",
    "plt.axis('off')\n",
    "plt.imshow(wordcloud)\n",
    "plt.show()"
   ]
  },
  {
   "cell_type": "code",
   "execution_count": null,
   "id": "ae975580",
   "metadata": {},
   "outputs": [],
   "source": [
    "txt = ' '.join(i for i in df[df['genre'] == \"R\"]['review'])\n",
    "wordcloud = WordCloud(max_font_size = 150,\n",
    "                max_words = 30,\n",
    "                width = 600,\n",
    "                height = 400,\n",
    "                background_color = \"black\",\n",
    "                colormap='RdPu_r').generate(txt)\n",
    "\n",
    "plt.figure(figsize=(12,6))\n",
    "plt.axis('off')\n",
    "plt.imshow(wordcloud)\n",
    "plt.show()"
   ]
  },
  {
   "cell_type": "code",
   "execution_count": null,
   "id": "a375632c",
   "metadata": {},
   "outputs": [],
   "source": [
    "txt = ' '.join(i for i in df[df['genre'] == \"P\"]['review'])\n",
    "wordcloud = WordCloud(max_font_size = 150,\n",
    "                max_words = 30,\n",
    "                width = 600,\n",
    "                height = 400,\n",
    "                background_color = \"black\",\n",
    "                colormap='RdPu_r').generate(txt)\n",
    "\n",
    "plt.figure(figsize=(12,6))\n",
    "plt.axis('off')\n",
    "plt.imshow(wordcloud)\n",
    "plt.show()"
   ]
  },
  {
   "cell_type": "code",
   "execution_count": null,
   "id": "533bfce8",
   "metadata": {},
   "outputs": [],
   "source": [
    "txt = ' '.join(i for i in df[df['genre'] == \"S\"]['review'])\n",
    "wordcloud = WordCloud(max_font_size = 150,\n",
    "                max_words = 30,\n",
    "                width = 600,\n",
    "                height = 400,\n",
    "                background_color = \"black\",\n",
    "                colormap='RdPu_r').generate(txt)\n",
    "\n",
    "plt.figure(figsize=(12,6))\n",
    "plt.axis('off')\n",
    "plt.imshow(wordcloud)\n",
    "plt.show()"
   ]
  },
  {
   "cell_type": "markdown",
   "id": "482138b7",
   "metadata": {},
   "source": [
    "#### Usunięcie znaków, text lowering"
   ]
  },
  {
   "cell_type": "code",
   "execution_count": null,
   "id": "de9717cd",
   "metadata": {},
   "outputs": [],
   "source": [
    "df[\"review\"] = df[\"review\"].str.replace(r\"\\[.*?\\]|\\n|[^\\x00-\\x7F]+\", \"\", regex=True).str.lower()"
   ]
  },
  {
   "cell_type": "code",
   "execution_count": null,
   "id": "98abf19c",
   "metadata": {},
   "outputs": [],
   "source": [
    "df[\"review\"].sample(10)"
   ]
  },
  {
   "cell_type": "markdown",
   "id": "45a0d505",
   "metadata": {},
   "source": [
    "#### Usunięcie znaków interpunkcyjnych i liczb"
   ]
  },
  {
   "cell_type": "code",
   "execution_count": null,
   "id": "cb772450",
   "metadata": {},
   "outputs": [],
   "source": [
    "df[\"review\"] = df[\"review\"].str.replace(r\"[0-9]\", \"\", regex=True)"
   ]
  },
  {
   "cell_type": "code",
   "execution_count": null,
   "id": "3653211a",
   "metadata": {},
   "outputs": [],
   "source": [
    "df[\"review\"] = df[\"review\"].str.replace('['  + string.punctuation + ']', \"\", regex =True)"
   ]
  },
  {
   "cell_type": "code",
   "execution_count": null,
   "id": "e736f4f4",
   "metadata": {},
   "outputs": [],
   "source": [
    "df[\"review\"].sample(5)"
   ]
  },
  {
   "cell_type": "markdown",
   "id": "57550967",
   "metadata": {},
   "source": [
    "#### Usunięcie tytułów gier z recenzji"
   ]
  },
  {
   "cell_type": "code",
   "execution_count": null,
   "id": "2277046f",
   "metadata": {},
   "outputs": [],
   "source": [
    "for value in title_dict.values():\n",
    "    df[\"review\"] = df[\"review\"].str.replace(value.lower(), \"\")"
   ]
  },
  {
   "cell_type": "markdown",
   "id": "2df5bdb0",
   "metadata": {},
   "source": [
    "#### Tokenizacja"
   ]
  },
  {
   "cell_type": "code",
   "execution_count": null,
   "id": "f895cbc8",
   "metadata": {},
   "outputs": [],
   "source": [
    "df[\"tokenized\"] = df[\"review\"].apply(nltk.word_tokenize)"
   ]
  },
  {
   "cell_type": "code",
   "execution_count": null,
   "id": "254f239e",
   "metadata": {},
   "outputs": [],
   "source": [
    "df[\"tokenized\"].sample(15)"
   ]
  },
  {
   "cell_type": "markdown",
   "id": "d2edfb85",
   "metadata": {},
   "source": [
    "### Stopwords"
   ]
  },
  {
   "cell_type": "code",
   "execution_count": null,
   "id": "bc8982ca",
   "metadata": {},
   "outputs": [],
   "source": [
    "import nltk\n",
    "from nltk.corpus import stopwords\n",
    "nltk.download('stopwords')\n",
    "english_stopwords = stopwords.words('english')\n",
    "english_stopwords_cleaned = [word.replace(\"'\", \"\") for word in english_stopwords]"
   ]
  },
  {
   "cell_type": "code",
   "execution_count": null,
   "id": "24bf04a2",
   "metadata": {},
   "outputs": [],
   "source": [
    "new_column = []\n",
    "for row in df[\"tokenized\"]:\n",
    "    new_row = [word for word in row if word[0] not in english_stopwords_cleaned]\n",
    "    new_column.append(new_row)\n",
    "df[\"final_review\"] = new_column"
   ]
  },
  {
   "cell_type": "markdown",
   "id": "ca513c05",
   "metadata": {},
   "source": [
    "## Describe"
   ]
  },
  {
   "cell_type": "code",
   "execution_count": null,
   "id": "1d412a42",
   "metadata": {},
   "outputs": [],
   "source": [
    "df.dtypes"
   ]
  },
  {
   "cell_type": "code",
   "execution_count": null,
   "id": "5fb78be5",
   "metadata": {},
   "outputs": [],
   "source": [
    "df[\"weighted_vote_score\"] = pd.to_numeric(df[\"weighted_vote_score\"])"
   ]
  },
  {
   "cell_type": "code",
   "execution_count": null,
   "id": "ce00a9db",
   "metadata": {},
   "outputs": [],
   "source": [
    "df[\"voted_up\"] = pd.to_numeric(df[\"voted_up\"])"
   ]
  },
  {
   "cell_type": "code",
   "execution_count": null,
   "id": "0edb9104",
   "metadata": {},
   "outputs": [],
   "source": [
    "df.describe()"
   ]
  },
  {
   "cell_type": "code",
   "execution_count": null,
   "id": "6284bc4a",
   "metadata": {},
   "outputs": [],
   "source": [
    "corr = df.corr(method = \"pearson\")\n",
    "plt.figure(figsize=(7,5))\n",
    "sns.heatmap(corr, cmap=sns.cubehelix_palette(as_cmap=True),annot=True)\n",
    "plt.show()"
   ]
  },
  {
   "cell_type": "markdown",
   "id": "8651a76c",
   "metadata": {},
   "source": [
    "## Wykresy"
   ]
  },
  {
   "cell_type": "code",
   "execution_count": null,
   "id": "5bcfc66b",
   "metadata": {},
   "outputs": [],
   "source": [
    "value_counts_title = df[\"title\"].value_counts()\n",
    "genre_colors = {\"A\": sns.cubehelix_palette(4)[1], \"R\": sns.cubehelix_palette(4)[2], \"P\": sns.cubehelix_palette(4)[3], \n",
    "                \"S\": sns.cubehelix_palette(4)[0]}\n",
    "df['color'] = df['genre'].map(genre_colors)\n",
    "colors = [df.loc[df['title'] == title]['color'].iloc[0] for title in value_counts_title.index]\n",
    "\n",
    "plt.figure(figsize=(12, 6))\n",
    "x = value_counts_title.plot(kind = \"bar\", color = colors)\n",
    "plt.ylabel(\"Ilość recenzji\")\n",
    "plt.xticks(rotation = 90)\n",
    "for i, count in enumerate(value_counts_title):\n",
    "    x.text(i, count, count, va = \"bottom\", ha = \"center\")\n",
    "\n",
    "handles = [plt.Rectangle((0,0), 1,1, color=genre_colors[label]) for label in genre_colors]\n",
    "plt.legend(handles, genre_colors.keys(), title=\"Gatunek\", loc=\"upper right\")\n",
    "\n",
    "\n",
    "plt.show()\n",
    "df = df.drop([\"color\"], axis=1)"
   ]
  },
  {
   "cell_type": "code",
   "execution_count": null,
   "id": "304a7abc",
   "metadata": {},
   "outputs": [],
   "source": [
    "value_counts_genre = df[\"genre\"].value_counts()\n",
    "colors = sns.cubehelix_palette(4)\n",
    "x = plt.pie(value_counts_genre, labels = value_counts_genre.index, colors=colors, autopct='%1.2f%%')\n",
    "plt.show()"
   ]
  },
  {
   "cell_type": "code",
   "execution_count": null,
   "id": "191c22dc",
   "metadata": {},
   "outputs": [],
   "source": [
    "value_counts_recommendation_genre = df.groupby('genre').voted_up.value_counts().unstack(0)\n",
    "percentage_pos = value_counts_recommendation_genre.iloc[1] / (value_counts_recommendation_genre.iloc[1] + value_counts_recommendation_genre.iloc[0]) * 100 \n",
    "percentage_neg = value_counts_recommendation_genre.iloc[0] / (value_counts_recommendation_genre.iloc[0] + value_counts_recommendation_genre.iloc[1]) * 100 \n",
    "\n",
    "total_count = percentage_pos + percentage_neg\n",
    "\n",
    "def addlabels_neg(x,y):\n",
    "    for i in range(len(y)):\n",
    "        plt.text(i, x[i] + 2, f\"{x[i]:.2f}%\",  ha = \"center\")\n",
    "\n",
    "def addlabels_pos(x,y):\n",
    "    for i in range(len(y)):\n",
    "        plt.text(i, x[i] - 6, f\"{y[i]:.2f}%\",  ha = \"center\")\n",
    "\n",
    "fig, ax1 = plt.subplots(figsize=(7, 4))\n",
    "ax2 = ax1.twinx()\n",
    "\n",
    "total_count.plot(kind=\"bar\", color=\"#95DBE5FF\",  label=\"Recommended\")\n",
    "percentage_neg.plot(kind=\"bar\", color=\"#078282FF\", label=\"Not Recommended\")\n",
    "\n",
    "ax1.set_xlabel(\"Gatunki\")\n",
    "ax1.tick_params(axis=\"y\", left=False, labelleft=False)\n",
    "ax2.tick_params(axis=\"y\", right=False, labelright=False)\n",
    "\n",
    "addlabels_neg(percentage_neg, total_count) \n",
    "addlabels_pos(total_count, percentage_pos) \n",
    "\n",
    "plt.legend(bbox_to_anchor=(0.85, 1.15), ncol=2)\n",
    "plt.show()"
   ]
  },
  {
   "cell_type": "code",
   "execution_count": null,
   "id": "db060110",
   "metadata": {},
   "outputs": [],
   "source": [
    "import numpy as np\n",
    "\n",
    "value_counts_recommendation_genre = df.groupby('genre').voted_up.value_counts().unstack(0)\n",
    "percentage_pos = value_counts_recommendation_genre.iloc[1] / (value_counts_recommendation_genre.iloc[1] + value_counts_recommendation_genre.iloc[0]) * 100 \n",
    "percentage_neg = value_counts_recommendation_genre.iloc[0] / (value_counts_recommendation_genre.iloc[0] + value_counts_recommendation_genre.iloc[1]) * 100 \n",
    "\n",
    "total_count = percentage_pos + percentage_neg\n",
    "\n",
    "def addlabels_neg(x,y):\n",
    "    for i in range(len(y)):\n",
    "        plt.text(i, x[i] + 2, f\"{x[i]:.2f}%\",  ha = \"center\")\n",
    "\n",
    "def addlabels_pos(x,y):\n",
    "    for i in range(len(y)):\n",
    "        plt.text(i, x[i] - 6, f\"{y[i]:.2f}%\",  ha = \"center\")\n",
    "\n",
    "fig, axs = plt.subplots(1, 2, figsize=(12, 4))\n",
    "\n",
    "total_count.plot(kind=\"bar\", color=\"#ffdaf6\",  label=\"Recommended\")\n",
    "percentage_neg.plot(kind=\"bar\", color=\"#b34a98\", label=\"Not Recommended\")\n",
    "\n",
    "axs[1].set_xlabel(\"Gatunki\")\n",
    "addlabels_neg(percentage_neg, total_count) \n",
    "addlabels_pos(total_count, percentage_pos) \n",
    "axs[1].legend(loc=(1.04, 0))\n",
    "\n",
    "value_counts_genre = df[\"genre\"].value_counts()\n",
    "colors = sns.cubehelix_palette(6)\n",
    "\n",
    "axs[0].pie(value_counts_genre, labels = value_counts_genre.index,colors=colors, autopct='%1.1f%%', startangle=140)\n",
    "plt.show()"
   ]
  },
  {
   "cell_type": "markdown",
   "id": "ad0f5bf2",
   "metadata": {},
   "source": [
    "## Dependency parser test"
   ]
  },
  {
   "cell_type": "code",
   "execution_count": null,
   "id": "540cd91d",
   "metadata": {},
   "outputs": [],
   "source": [
    "test = [df[\"final_review\"][6543], df[\"final_review\"][4534], df[\"final_review\"][12345], df[\"final_review\"][12354],\n",
    "        df[\"final_review\"][1925], df[\"final_review\"][1067],df[\"final_review\"][22951],df[\"final_review\"][2231],\n",
    "       [\"not\",\"fun\", \"gameplay\"], df[\"tokenized\"][832], df[\"final_review\"][21], df[\"tokenized\"][27061],\n",
    "       df[\"final_review\"][11088], df[\"final_review\"][3171], df[\"final_review\"][7834], df[\"final_review\"][20180],\n",
    "       df[\"final_review\"][6697], df[\"final_review\"][893]]"
   ]
  },
  {
   "cell_type": "code",
   "execution_count": null,
   "id": "a1eb8f86",
   "metadata": {
    "scrolled": true
   },
   "outputs": [],
   "source": [
    "import stanza\n",
    "nlp = stanza.Pipeline('en', tokenize_pretokenized=True) \n",
    "doc = nlp(test)"
   ]
  },
  {
   "cell_type": "code",
   "execution_count": null,
   "id": "08628cd3",
   "metadata": {},
   "outputs": [],
   "source": [
    "dependency_list = []\n",
    "for dependency in doc.sentences[13].dependencies:\n",
    "    dependency_list.append([dependency[2].text, dependency[0].id, dependency[1]])\n",
    "    \n",
    "for i in range(0, len(dependency_list)):\n",
    "    if (int(dependency_list[i][1]) != 0):\n",
    "        dependency_list[i][1] = test[13][(int(dependency_list[i][1]) - 1)]\n",
    "\n",
    "print(*dependency_list[:10], sep='\\n')"
   ]
  },
  {
   "cell_type": "code",
   "execution_count": null,
   "id": "2ffb6da2",
   "metadata": {},
   "outputs": [],
   "source": [
    "feature_list = []\n",
    "feature_opinion_list = [] \n",
    "\n",
    "for dependency in doc.sentences[13].dependencies:\n",
    "    if dependency[2].xpos == \"RB\":\n",
    "        opinion_word = dependency[2]\n",
    "        rb_adj = dependency[0]\n",
    "        \n",
    "    if (dependency[2].xpos in [\"NN\", \"NNS\",\"JJ\", \"JJS\", \"JJR\"]) and (dependency[1] in [\"amod\"]):\n",
    "        if dependency[0] == rb_adj or dependency[2] == rb_adj:\n",
    "            if dependency[2].xpos in [\"JJS\", \"JJR\"]:\n",
    "                result_dict = {'feature': dependency[0].lemma, 'opinion': opinion_word.text + \" \" + dependency[2].text}\n",
    "            else:\n",
    "                result_dict = {'feature': dependency[0].lemma, 'opinion': opinion_word.text + \" \" + dependency[2].lemma}     \n",
    "        else:\n",
    "            if dependency[2].xpos in [\"JJS\", \"JJR\"]:\n",
    "                result_dict = {'feature': dependency[0].lemma, 'opinion': dependency[2].text}\n",
    "            else:\n",
    "                result_dict = {'feature': dependency[0].lemma, 'opinion': dependency[2].lemma}  \n",
    "\n",
    "        feature_list.append(dependency[0].lemma)\n",
    "        feature_opinion_list.append(result_dict)\n",
    "\n",
    "print(f'Feature list: {feature_list}')\n",
    "print(f'Feature-opinion list: {feature_opinion_list}')"
   ]
  },
  {
   "cell_type": "markdown",
   "id": "dfe3cc71",
   "metadata": {},
   "source": [
    "## Dependency parser final"
   ]
  },
  {
   "cell_type": "raw",
   "id": "af3aa4b8",
   "metadata": {},
   "source": [
    "feature_list_column = []\n",
    "feature_opinion_list_column = []\n",
    "\n",
    "for review in tqdm(df[\"final_review\"]):\n",
    "    if isinstance(review, list):\n",
    "        review = \" \".join(review)\n",
    "        doc = nlp(review)\n",
    "        feature_list = []\n",
    "        feature_opinion_list = [] \n",
    "        \n",
    "        if len(doc.sentences) == 0:\n",
    "            continue\n",
    "            \n",
    "        for dependency in doc.sentences[0].dependencies:\n",
    "            if dependency[2].xpos == \"RB\":\n",
    "                opinion_word = dependency[2]\n",
    "                rb_adj = dependency[0]\n",
    "            if (dependency[2].xpos in [\"JJ\", \"JJS\"]) and (dependency[0].xpos in [\"NN\", \"NNS\"]) and (dependency[1] in [\"amod\"]):\n",
    "\n",
    "                if dependency[0] == rb_adj or dependency[2] == rb_adj:\n",
    "                    if dependency[2].xpos in [\"JJS\", \"JJR\"]:\n",
    "                        result_dict = {'feature': dependency[0].lemma, 'opinion': opinion_word.text + \" \" + dependency[2].text}\n",
    "                    else:\n",
    "                        result_dict = {'feature': dependency[0].lemma, 'opinion': opinion_word.text + \" \" + dependency[2].lemma}     \n",
    "                else:\n",
    "                    if dependency[2].xpos in [\"JJS\", \"JJR\"]:\n",
    "                        result_dict = {'feature': dependency[0].lemma, 'opinion': dependency[2].text}\n",
    "                    else:\n",
    "                        result_dict = {'feature': dependency[0].lemma, 'opinion': dependency[2].lemma}  \n",
    "\n",
    "                feature_list.append(dependency[0].lemma)\n",
    "                feature_opinion_list.append(result_dict)\n",
    "\n",
    "    feature_list_column.append(feature_list)\n",
    "    feature_opinion_list_column.append([review, feature_opinion_list])\n",
    "    \n",
    "df[\"feature\"] = [feature_list_column]\n",
    "df[\"feature_opinion_list\"] = [feature_opinion_list_column]"
   ]
  },
  {
   "cell_type": "raw",
   "id": "67dac65a",
   "metadata": {},
   "source": [
    "new_df = pd.DataFrame([feature_list_column, feature_opinion_list_column])\n",
    "new_df.T\n",
    "\n",
    "non_empty_indexes = df[df[\"final_review\"].apply(lambda x: len(x)!=0)].index\n",
    "\n",
    "import json\n",
    "opinions_dict = {k:v for k, v in zip(non_empty_indexes, feature_opinion_list_column)}\n",
    "out_file = open(\"opinions.json\", \"w\") \n",
    "  \n",
    "json.dump(opinions_dict, out_file, indent = 6) \n",
    "  \n",
    "out_file.close() "
   ]
  },
  {
   "cell_type": "code",
   "execution_count": null,
   "id": "4a7369c3",
   "metadata": {},
   "outputs": [],
   "source": [
    "with open('opinions.json', 'r') as file:\n",
    "    dct = json.load(file)"
   ]
  },
  {
   "cell_type": "code",
   "execution_count": null,
   "id": "d384d823",
   "metadata": {},
   "outputs": [],
   "source": [
    "feature_list = []\n",
    "\n",
    "for i in range(len(df)):\n",
    "    index = str(i)  \n",
    "    feature = dct.get(index)\n",
    "    if feature is None:\n",
    "        feature_list.append([])\n",
    "    else:\n",
    "        feature_list.append(feature)\n",
    "\n",
    "df[\"feature\"] = feature_list"
   ]
  },
  {
   "cell_type": "code",
   "execution_count": null,
   "id": "8aad9ed4",
   "metadata": {},
   "outputs": [],
   "source": [
    "words = []\n",
    "for i in df[\"feature\"]:\n",
    "    for j in i:\n",
    "        words.append(j[\"feature\"])"
   ]
  },
  {
   "cell_type": "code",
   "execution_count": null,
   "id": "7a62cd35",
   "metadata": {},
   "outputs": [],
   "source": [
    "unique_words = list(set(words))"
   ]
  },
  {
   "cell_type": "code",
   "execution_count": null,
   "id": "b109a529",
   "metadata": {},
   "outputs": [],
   "source": [
    "word_counts = pd.DataFrame([[i, len([q for q in words if q==i])] for i in unique_words], \n",
    "              columns=['word', 'count']).sort_values('count', ascending=False)"
   ]
  },
  {
   "cell_type": "markdown",
   "id": "cc028f4c",
   "metadata": {},
   "source": [
    "## Dendrogram"
   ]
  },
  {
   "cell_type": "code",
   "execution_count": null,
   "id": "5768241d",
   "metadata": {},
   "outputs": [],
   "source": [
    "popular_words = word_counts[word_counts['count']>= 15][\"word\"].to_list()\n",
    "nlp = spacy.load('en_core_web_md')\n",
    "tokens = [nlp(word) for word in popular_words]\n",
    "word_vectors = pd.DataFrame([i.vector for i in tokens])"
   ]
  },
  {
   "cell_type": "code",
   "execution_count": null,
   "id": "4928d338",
   "metadata": {},
   "outputs": [],
   "source": [
    "Z = linkage(word_vectors.values, method='ward')\n",
    "\n",
    "plt.figure(figsize=(10,6))\n",
    "dendrogram(Z, p = 5, truncate_mode = \"level\", orientation='top', labels = popular_words, leaf_font_size = 8)\n",
    "plt.title('Hierarchical Clustering Dendrogram')\n",
    "plt.xlabel('Words')\n",
    "plt.ylabel('Distance')\n",
    "plt.show()"
   ]
  },
  {
   "cell_type": "code",
   "execution_count": null,
   "id": "450fe841",
   "metadata": {
    "scrolled": true
   },
   "outputs": [],
   "source": [
    "cluster_labels = fcluster(Z, t = 75,  criterion=\"distance\")\n",
    "\n",
    "clusters = {}\n",
    "for word, label in zip(popular_words, cluster_labels):\n",
    "    if label not in clusters:\n",
    "        clusters[label] = [word]\n",
    "    else:\n",
    "        clusters[label].append(word)\n",
    "\n",
    "for label, words in clusters.items():\n",
    "    print(f\"Cluster {label}: {', '.join(words)}\")"
   ]
  },
  {
   "cell_type": "raw",
   "id": "c530f516",
   "metadata": {},
   "source": [
    "clusters = {}\n",
    "for word, label in zip(popular_words, cluster_labels):\n",
    "    if label not in clusters:\n",
    "        clusters[label] = [word]\n",
    "    else:\n",
    "        clusters[label].append(word)\n",
    "\n",
    "with open('clusters.csv', 'w') as file:\n",
    "    file.write('Cluster,Words\\n')\n",
    "    for label, words in clusters.items():\n",
    "        file.write(f\"{label},{' '.join(words)}\\n\")\n",
    "        print(f\"Cluster {label}: {', '.join(words)}\")\n",
    "\n",
    "print(\"Clusters saved to clusters.csv\")"
   ]
  },
  {
   "cell_type": "code",
   "execution_count": null,
   "id": "1a4be688",
   "metadata": {},
   "outputs": [],
   "source": [
    "def words_to_list(words_string):\n",
    "    return words_string.split()\n",
    "\n",
    "clusters_df = pd.read_csv('clusters.csv', converters={'Words': words_to_list})\n",
    "clusters_df"
   ]
  },
  {
   "cell_type": "raw",
   "id": "b8818810",
   "metadata": {},
   "source": [
    "clusters = {7: 'Combat',\n",
    "    95: 'Combat',\n",
    "    11: \"Combat\",\n",
    "    75: 'Gameplay',\n",
    "    19: 'Game Mechanics',\n",
    "    99: 'Game Mechanics',\n",
    "    25: 'Challenges',\n",
    "    76: 'Visuals',\n",
    "    87: 'Visuals',\n",
    "    67: 'Visuals',\n",
    "    56: 'Humor',\n",
    "    62: 'Narrative and Story',\n",
    "    22: 'Narrative and Story',\n",
    "    63: 'Bugs and Glitches',\n",
    "    77: 'Updates and Patches',\n",
    "    21: 'Community and Collaboration',\n",
    "    12: 'Cost',\n",
    "    24: 'Cost',\n",
    "    18: 'Content Quality',\n",
    "    8: 'Quests and Adventures',\n",
    "    16: 'Production and Development',\n",
    "    72: 'User Feedback',\n",
    "    48: 'Enjoyment and Reward'}"
   ]
  },
  {
   "cell_type": "code",
   "execution_count": null,
   "id": "4ab39a27",
   "metadata": {},
   "outputs": [],
   "source": [
    "clusters = {\n",
    "    7: 'Walka',\n",
    "    95: 'Walka',\n",
    "    11: 'Walka',\n",
    "    75: 'Rozgrywka',\n",
    "    19: 'Mechanika gry',\n",
    "    99: 'Mechanika gry',\n",
    "    25: 'Wyzwania',\n",
    "    76: 'Grafika',\n",
    "    87: 'Grafika',\n",
    "    67: 'Grafika',\n",
    "    56: 'Humor',\n",
    "    62: 'Narracja i fabuła',\n",
    "    22: 'Narracja i fabuła',\n",
    "    63: 'Błędy i usterki',\n",
    "    77: 'Aktualizacje i poprawki',\n",
    "    21: 'Społeczność i współpraca',\n",
    "    12: 'Koszt',\n",
    "    24: 'Koszt',\n",
    "    18: 'Jakość treści',\n",
    "    8: 'Misje i przygody',\n",
    "    16: 'Produkcja i rozwój',\n",
    "    72: 'Opinie użytkowników',\n",
    "    48: 'Satysfakcja'\n",
    "}"
   ]
  },
  {
   "cell_type": "code",
   "execution_count": null,
   "id": "14baf4ec",
   "metadata": {
    "scrolled": true
   },
   "outputs": [],
   "source": [
    "categories = clusters_df.groupby(clusters_df['Cluster'].map(clusters)).agg({'Words': 'sum'}).reset_index()\n",
    "categories"
   ]
  },
  {
   "cell_type": "code",
   "execution_count": null,
   "id": "85c2d86c",
   "metadata": {},
   "outputs": [],
   "source": [
    "categories[\"Words\"][15]"
   ]
  },
  {
   "cell_type": "markdown",
   "id": "1294435f",
   "metadata": {},
   "source": [
    "## Similarity"
   ]
  },
  {
   "cell_type": "code",
   "execution_count": null,
   "id": "59e15962",
   "metadata": {},
   "outputs": [],
   "source": [
    "words = word_counts[\"word\"].to_list()\n",
    "nlp = spacy.load('en_core_web_md')\n",
    "tokens = [nlp(word) for word in words]"
   ]
  },
  {
   "cell_type": "code",
   "execution_count": null,
   "id": "5c25e76a",
   "metadata": {},
   "outputs": [],
   "source": [
    "categories['WordTokens'] = categories['Words'].apply(lambda words: [nlp(word) for word in words])\n",
    "all_cluster_words = set(word for words in categories['Words'] for word in words)\n",
    "\n",
    "for token in tokens:\n",
    "    max_similarity = 0\n",
    "    best_cluster = None\n",
    "    \n",
    "    for idx, row in categories.iterrows():\n",
    "        for word_token in row['WordTokens']:\n",
    "            similarity = token.similarity(word_token)\n",
    "            if similarity > max_similarity:\n",
    "                max_similarity = similarity\n",
    "                best_cluster = idx\n",
    "    \n",
    "    if max_similarity > 0.75 and str(token) not in all_cluster_words:\n",
    "        categories.at[best_cluster, 'Words'].append(str(token))\n",
    "        all_cluster_words.add(token)\n",
    "\n",
    "categories.drop(columns=['WordTokens'], inplace=True)\n",
    "print(categories)"
   ]
  },
  {
   "cell_type": "code",
   "execution_count": null,
   "id": "f388c6d4",
   "metadata": {},
   "outputs": [],
   "source": [
    "categories[\"Words\"][15]"
   ]
  },
  {
   "cell_type": "markdown",
   "id": "50b31f78",
   "metadata": {},
   "source": [
    "# Feature-opinion-category list"
   ]
  },
  {
   "cell_type": "code",
   "execution_count": null,
   "id": "ac072a15",
   "metadata": {
    "scrolled": true
   },
   "outputs": [],
   "source": [
    "for i in df[\"feature\"]:\n",
    "    for j in i:\n",
    "        for index, row in categories.iterrows():\n",
    "            if j[\"feature\"] in row[\"Words\"]:\n",
    "                j[\"category\"] = row[\"Cluster\"]"
   ]
  },
  {
   "cell_type": "markdown",
   "id": "da9a0c60",
   "metadata": {},
   "source": [
    "# Sentiment"
   ]
  },
  {
   "cell_type": "code",
   "execution_count": null,
   "id": "564638ac",
   "metadata": {},
   "outputs": [],
   "source": [
    "import nltk\n",
    "from nltk.sentiment.vader import SentimentIntensityAnalyzer\n",
    "nltk.download('vader_lexicon')\n",
    "analyzer = SentimentIntensityAnalyzer()"
   ]
  },
  {
   "cell_type": "code",
   "execution_count": null,
   "id": "24c6e80d",
   "metadata": {},
   "outputs": [],
   "source": [
    "for i in df[\"feature\"]:\n",
    "    for j in i:\n",
    "        expr = j[\"opinion\"] #+ \" \" + j[\"feature\"] \n",
    "        scores = analyzer.polarity_scores(expr)\n",
    "        j[\"sentiment\"] = scores[\"compound\"]"
   ]
  },
  {
   "cell_type": "markdown",
   "id": "d39fe1d6",
   "metadata": {},
   "source": [
    "### Sentiment for each feature category for different genres"
   ]
  },
  {
   "cell_type": "code",
   "execution_count": null,
   "id": "0e2af9b1",
   "metadata": {},
   "outputs": [],
   "source": [
    "category_genre_sentiment_count = {}\n",
    "\n",
    "for genre, features in zip(df[\"genre\"], df[\"feature\"]):\n",
    "\n",
    "    if genre not in category_genre_sentiment_count:\n",
    "        category_genre_sentiment_count[genre] = defaultdict(lambda: {\"positive\": 0, \"negative\": 0, \"neutral\": 0})\n",
    "    \n",
    "    for feature in features:\n",
    "        if \"category\" in feature and \"sentiment\" in feature:\n",
    "            category = feature[\"category\"]\n",
    "            sentiment = feature[\"sentiment\"]\n",
    "            \n",
    "            if category not in category_genre_sentiment_count[genre]:\n",
    "                category_genre_sentiment_count[genre][category] = {\"positive\": 0, \"negative\": 0, \"neutral\": 0}\n",
    "            \n",
    "            if sentiment > 0:\n",
    "                category_genre_sentiment_count[genre][category][\"positive\"] += 1\n",
    "            elif sentiment < 0:\n",
    "                category_genre_sentiment_count[genre][category][\"negative\"] += 1\n",
    "            else:\n",
    "                category_genre_sentiment_count[genre][category][\"neutral\"] += 1\n",
    "                \n",
    "    for category in category_genre_sentiment_count[genre]:\n",
    "        total = sum(category_genre_sentiment_count[genre][category].values())\n",
    "        for sentiment in category_genre_sentiment_count[genre][category]:\n",
    "            category_genre_sentiment_count[genre][category][sentiment] = \\\n",
    "                (category_genre_sentiment_count[genre][category][sentiment] / total) * 100\n",
    "    \n",
    "    category_genre_sentiment_count[genre] = dict(category_genre_sentiment_count[genre])"
   ]
  },
  {
   "cell_type": "code",
   "execution_count": null,
   "id": "bf02c6ac",
   "metadata": {},
   "outputs": [],
   "source": [
    "fig, axs = plt.subplots(2, 2, figsize=(10, 10))\n",
    "fig.suptitle(\"Proporcje nastrojów w poszczególnych kategoriach\", fontsize=16)\n",
    "\n",
    "def plot_genre_sentiments(ax, genre, title):\n",
    "    categories = list(category_genre_sentiment_count[genre].keys())\n",
    "    positive = np.array([category_genre_sentiment_count[genre][cat][\"positive\"] for cat in categories])\n",
    "    negative = np.array([category_genre_sentiment_count[genre][cat][\"negative\"] for cat in categories])\n",
    "    neutral = np.array([category_genre_sentiment_count[genre][cat][\"neutral\"] for cat in categories])\n",
    "\n",
    "    ax.bar(categories, positive, color=\"#96d800\", label=\"Positive\", width=0.5)\n",
    "    ax.bar(categories, neutral, bottom=positive, color=\"#fce655\", label=\"Neutral\", width=0.5)\n",
    "    ax.bar(categories, negative, bottom=neutral + positive, color=\"#b20918\", label=\"Negative\", width=0.5)\n",
    "\n",
    "    ax.tick_params(axis=\"x\", rotation=90)\n",
    "    ax.set_title(title, fontsize=12)\n",
    "    ax.grid(True, which='major', axis='y', linestyle='--', alpha=0.5)\n",
    "\n",
    "plot_genre_sentiments(axs[0, 0], \"R\", \"RPG\")\n",
    "plot_genre_sentiments(axs[0, 1], \"A\", \"Akcja\")\n",
    "plot_genre_sentiments(axs[1, 0], \"P\", \"Puzzle\")\n",
    "plot_genre_sentiments(axs[1, 1], \"S\", \"Strategia\")\n",
    "\n",
    "plt.tight_layout(rect=[0, 0, 1, 0.95])\n",
    "\n",
    "fig.legend([\"Pozytywne\", \"Neutralne\", \"Negatywne\"], loc=\"upper center\", bbox_to_anchor=(0.5, 0.95), ncol=3, fontsize=11)\n",
    "\n",
    "plt.show()"
   ]
  },
  {
   "cell_type": "markdown",
   "id": "bf776c2c",
   "metadata": {},
   "source": [
    "### Feature category significance analysis for different genres"
   ]
  },
  {
   "cell_type": "code",
   "execution_count": null,
   "id": "50563188",
   "metadata": {},
   "outputs": [],
   "source": [
    "genre_category = {}\n",
    "for genre, features in zip(df[\"genre\"], df[\"feature\"]):\n",
    "    if genre not in genre_category:\n",
    "        genre_category[genre] = []\n",
    "    for feature in features:\n",
    "        if \"category\" in feature:\n",
    "            genre_category[genre].append(feature[\"category\"])"
   ]
  },
  {
   "cell_type": "code",
   "execution_count": null,
   "id": "fbcb9b4e",
   "metadata": {},
   "outputs": [],
   "source": [
    "genre_category_counts = {genre: pd.Series(categories).value_counts() for genre, categories in genre_category.items()}"
   ]
  },
  {
   "cell_type": "code",
   "execution_count": null,
   "id": "9274b32f",
   "metadata": {},
   "outputs": [],
   "source": [
    "genre_category_counts = pd.DataFrame(genre_category_counts)"
   ]
  },
  {
   "cell_type": "code",
   "execution_count": null,
   "id": "f5c100c6",
   "metadata": {},
   "outputs": [],
   "source": [
    "fig, axs = plt.subplots(2, 2, figsize=(10, 11.5))\n",
    "fig.suptitle(\"Liczba cech według gatunku z podziałem na kategorie\", fontsize=16)\n",
    "\n",
    "values = genre_category_counts[\"R\"].sort_values(ascending=False)[1:].keys()\n",
    "cmap = mpl.colormaps[\"turbo\"]\n",
    "colors = cmap(np.linspace(0, 1, len(values)))\n",
    "value_color_dict = dict(zip(values, colors))\n",
    "\n",
    "def plot_genre_category_count(ax, genre, title):\n",
    "    categories = list(genre_category_counts[genre].sort_values(ascending=False)[1:].keys())\n",
    "    counts = list(genre_category_counts[genre].sort_values(ascending=False)[1:])\n",
    "    bars = ax.bar(categories, counts, color=[value_color_dict[category] for category in categories])\n",
    "    ax.set_title(title, fontsize=12)\n",
    "    ax.set_ylabel(\"Liczba\", fontsize=10)\n",
    "    ax.tick_params(axis=\"x\", rotation= 90, labelsize=10)\n",
    "    ax.grid(True, which='major', axis='y', linestyle='-', alpha=0.5)\n",
    "    \n",
    "    for bar in bars:\n",
    "        yval = bar.get_height()\n",
    "        ax.text(bar.get_x() + bar.get_width()/2, yval +0.5 , round(yval, 1), ha='center', va='bottom', fontsize=8)\n",
    "\n",
    "plot_genre_category_count(axs[0, 0], \"R\", \"RPG\")\n",
    "plot_genre_category_count(axs[0, 1], \"A\", \"Akcja\")\n",
    "plot_genre_category_count(axs[1, 0], \"P\", \"Puzzle\")\n",
    "plot_genre_category_count(axs[1, 1], \"S\", \"Strategia\")\n",
    "\n",
    "plt.tight_layout(rect=[0, 0, 1, 0.99])\n",
    "\n",
    "plt.show()"
   ]
  },
  {
   "cell_type": "code",
   "execution_count": null,
   "id": "41742ea0",
   "metadata": {},
   "outputs": [],
   "source": [
    "def pie_data(counts, categories, top_n=6):\n",
    "    sorted_indices = sorted(range(len(counts)), key=lambda i: counts[i], reverse=True)\n",
    "    sorted_counts = [counts[i] for i in sorted_indices]\n",
    "    sorted_categories = [categories[i] for i in sorted_indices]\n",
    "\n",
    "    filtered_counts = sorted_counts[:top_n]\n",
    "    filtered_labels = sorted_categories[:top_n]\n",
    "    others_count = sum(sorted_counts[top_n:])\n",
    "    \n",
    "    if others_count > 0:\n",
    "        filtered_counts.append(others_count)\n",
    "        filtered_labels.append(\"Inne\")\n",
    "    \n",
    "    return filtered_counts, filtered_labels\n",
    "\n",
    "fig, axs = plt.subplots(2, 2, figsize=(14, 10))\n",
    "fig.suptitle(\"Procentowy udział cech według gatunku\", fontsize=20)\n",
    "\n",
    "def plot_genre_category_count_pie(ax, genre, title):\n",
    "    categories = list(genre_category_counts[genre].sort_values(ascending=False)[1:].keys())\n",
    "    counts = list(genre_category_counts[genre].sort_values(ascending=False)[1:])\n",
    "    filtered_counts, filtered_labels = pie_data(counts, categories)\n",
    "    colors = [value_color_dict.get(label, \"#0097b8\") for label in filtered_labels]\n",
    "    ax.pie(filtered_counts, labels=filtered_labels, colors=colors, autopct=\"%1.1f%%\")\n",
    "    ax.set_title(title, size=16)\n",
    "\n",
    "plot_genre_category_count_pie(axs[0,0], \"R\", \"RPG\")\n",
    "plot_genre_category_count_pie(axs[0,1], \"A\", \"Akcja\")\n",
    "plot_genre_category_count_pie(axs[1,0], \"P\", \"Puzzle\")\n",
    "plot_genre_category_count_pie(axs[1,1], \"S\", \"Strategia\")\n",
    "\n",
    "plt.tight_layout()\n",
    "plt.show()"
   ]
  },
  {
   "cell_type": "markdown",
   "id": "0a952069",
   "metadata": {},
   "source": [
    "### Sentiment towards each aspect in aspect category"
   ]
  },
  {
   "cell_type": "markdown",
   "id": "8ffe23d3",
   "metadata": {},
   "source": [
    "#### Feature: opinion, sentiment, catergory"
   ]
  },
  {
   "cell_type": "code",
   "execution_count": null,
   "id": "40a5bfc6",
   "metadata": {},
   "outputs": [],
   "source": [
    "sentiment_aspect = {}\n",
    "for genre, features in zip(df[\"genre\"], df[\"feature\"]):\n",
    "    if genre not in sentiment_aspect:\n",
    "        sentiment_aspect[genre] = {}\n",
    "    \n",
    "    for feature in features:\n",
    "        if \"category\" in feature and \"sentiment\" in feature and \"feature\" in feature:\n",
    "            category = feature[\"category\"]\n",
    "            sentiment = feature[\"sentiment\"]\n",
    "            feature = feature[\"feature\"]\n",
    "            if category not in sentiment_aspect[genre]:\n",
    "                sentiment_aspect[genre][category] = {}\n",
    "            if feature not in sentiment_aspect[genre][category]:\n",
    "                sentiment_aspect[genre][category][feature] = []\n",
    "            sentiment_aspect[genre][category][feature].append(sentiment)"
   ]
  },
  {
   "cell_type": "markdown",
   "id": "1e24ce41",
   "metadata": {},
   "source": [
    "#### Mean, median, standard deviation, variance, minimum, maximum"
   ]
  },
  {
   "cell_type": "code",
   "execution_count": null,
   "id": "5ab8d9d1",
   "metadata": {},
   "outputs": [],
   "source": [
    "data = []\n",
    "\n",
    "for i,j in sentiment_aspect.items():\n",
    "    for k, l in j.items():\n",
    "        for m, n in l.items():\n",
    "            data.append([i, k, m, len(n), np.mean(n), np.median(n), np.var(n), np.std(n), np.min(n), np.max(n)])\n",
    "\n",
    "sentiment_aspect_df = pd.DataFrame(data, columns=[\"Genre\", \"Category\", \"Feature\", \"Count\", \"Mean\", \"Median\", \"Variance\", \"StdDev\", \"Min\", \"Max\"])\n",
    "\n",
    "sentiment_aspect_df"
   ]
  },
  {
   "cell_type": "markdown",
   "id": "92a5bd82",
   "metadata": {},
   "source": [
    "#### Frequency "
   ]
  },
  {
   "cell_type": "raw",
   "id": "7872e7aa",
   "metadata": {},
   "source": [
    "count_description = sentiment_aspect_df[\"Count\"].describe()\n",
    "print(count_description)"
   ]
  },
  {
   "cell_type": "raw",
   "id": "25551b78",
   "metadata": {},
   "source": [
    "sentiment_aspect_df[\"Count\"].quantile(0.7)"
   ]
  },
  {
   "cell_type": "raw",
   "id": "a7caa16a",
   "metadata": {},
   "source": [
    "sentiment_aspect_df[\"Log\"] = sentiment_aspect_df[\"Count\"].apply(lambda x: np.log(x+1))\n",
    "\n",
    "plt.figure(figsize=(12, 6))\n",
    "plt.hist(sentiment_aspect_df[\"Log\"], bins=50, edgecolor=\"black\", alpha=1)\n",
    "plt.title(\"Log Feature Counts\")\n",
    "plt.xlabel(\"Log Count\")\n",
    "plt.ylabel(\"Features Count\")\n",
    "plt.show()"
   ]
  },
  {
   "cell_type": "raw",
   "id": "453cf771",
   "metadata": {},
   "source": [
    "log_thresh = sentiment_aspect_df[\"Log Count\"].quantile([0,0.25, 0.5, 0.75, 0.90, 0.95, 0.99])\n",
    "print(log_thresh)"
   ]
  },
  {
   "cell_type": "raw",
   "id": "8a096578",
   "metadata": {},
   "source": [
    "sentiment_aspect_df[sentiment_aspect_df[\"Log Count\"] > 2]"
   ]
  },
  {
   "cell_type": "markdown",
   "id": "f239d96f",
   "metadata": {},
   "source": [
    "#### Most popular words in each category in genre"
   ]
  },
  {
   "cell_type": "code",
   "execution_count": null,
   "id": "bd813bba",
   "metadata": {},
   "outputs": [],
   "source": [
    "sentiment_aspect_df_sort= sentiment_aspect_df.sort_values(by=\"Count\", ascending=False)\n",
    "top_10_common = sentiment_aspect_df_sort.groupby(\"Genre\", group_keys=False).apply(lambda x: x.head(10))\n",
    "top_10_common"
   ]
  },
  {
   "cell_type": "markdown",
   "id": "0f6439f6",
   "metadata": {},
   "source": [
    "#### higher variance vs sentiment"
   ]
  },
  {
   "cell_type": "code",
   "execution_count": null,
   "id": "dc599b75",
   "metadata": {},
   "outputs": [],
   "source": [
    "plt.scatter(sentiment_aspect_df[\"Mean\"], sentiment_aspect_df[\"Variance\"], alpha = 0.7)\n",
    "plt.title(\"Sentiment mean vs. Variance\")\n",
    "plt.xlabel(\"Sentiment mean\")\n",
    "plt.ylabel(\"Variance\")\n",
    "plt.show()"
   ]
  },
  {
   "cell_type": "code",
   "execution_count": null,
   "id": "f8528376",
   "metadata": {},
   "outputs": [],
   "source": [
    "corr_mean_variance = sentiment_aspect_df[[\"Mean\", \"Variance\"]].corr().iloc[0, 1]\n",
    "corr_mean_variance"
   ]
  },
  {
   "cell_type": "markdown",
   "id": "2fbd2a72",
   "metadata": {},
   "source": [
    "### Sentiment towards category"
   ]
  },
  {
   "cell_type": "code",
   "execution_count": null,
   "id": "71a66b45",
   "metadata": {},
   "outputs": [],
   "source": [
    "sentiment_aspect_category = {}\n",
    "for genre, features in zip(df[\"genre\"], df[\"feature\"]):\n",
    "    if genre not in sentiment_aspect_category:\n",
    "        sentiment_aspect_category[genre] = {}\n",
    "    \n",
    "    for feature in features:\n",
    "        if \"category\" in feature and \"sentiment\" in feature:\n",
    "            category = feature[\"category\"]\n",
    "            sentiment = feature[\"sentiment\"]\n",
    "            if category not in sentiment_aspect_category[genre]:\n",
    "                sentiment_aspect_category[genre][category] = []\n",
    "            sentiment_aspect_category[genre][category].append(sentiment)"
   ]
  },
  {
   "cell_type": "code",
   "execution_count": null,
   "id": "950a77dd",
   "metadata": {},
   "outputs": [],
   "source": [
    "sentiment_category_data = []\n",
    "\n",
    "for i,j in sentiment_aspect_category.items():\n",
    "    for k, l in j.items():\n",
    "        sentiment_category_data.append([i, k, len(l), np.mean(l), np.median(l), np.var(l), np.std(l), np.min(l), np.max(l)])\n",
    "\n",
    "sentiment_category_df = pd.DataFrame(sentiment_category_data, columns=[\"Genre\", \"Category\", \"Count\", \"Mean\", \"Median\", \"Variance\", \"StdDev\", \"Min\", \"Max\"])\n",
    "\n",
    "sentiment_category_df"
   ]
  },
  {
   "cell_type": "code",
   "execution_count": null,
   "id": "8929e5e3",
   "metadata": {},
   "outputs": [],
   "source": [
    "sentiment_category_pivot = sentiment_category_df.pivot(\"Genre\", \"Category\", \"Mean\")\n",
    "plt.figure(figsize=(12, 6))\n",
    "sns.heatmap(sentiment_category_pivot, annot=True, cmap=\"coolwarm\")\n",
    "plt.title(\"Average Sentiment Scores by Category and Genre\")\n",
    "plt.xlabel(\"Category\")\n",
    "plt.ylabel(\"Genre\")\n",
    "plt.xticks(rotation=90)\n",
    "plt.yticks()\n",
    "plt.tight_layout()\n",
    "plt.show()"
   ]
  },
  {
   "cell_type": "raw",
   "id": "e8e81d33",
   "metadata": {},
   "source": [
    "def plot_sentiment_genre(data):\n",
    "    plt.figure(figsize=(12, 6))\n",
    "    sns.barplot(x=\"Category\", y=\"Mean\", data=data, palette=\"coolwarm\")\n",
    "    plt.title(\"Highest Sentiments by Category\")\n",
    "    plt.xlabel(\"Category\")\n",
    "    plt.ylabel(\"Sentiment Score\")\n",
    "    plt.xticks(rotation=45, ha=\"right\")\n",
    "    plt.tight_layout()\n",
    "    plt.show()\n",
    "plot_sentiment_genre(sentiment_category_df[sentiment_category_df[\"Genre\"] == \"R\"])"
   ]
  },
  {
   "cell_type": "code",
   "execution_count": null,
   "id": "984207e5",
   "metadata": {},
   "outputs": [],
   "source": [
    "sentiment_category_pivot = sentiment_category_df.pivot(index=\"Genre\", columns=\"Category\", values=\"Mean\").reset_index()"
   ]
  },
  {
   "cell_type": "code",
   "execution_count": null,
   "id": "f762a3fb",
   "metadata": {},
   "outputs": [],
   "source": [
    "df_plot = sentiment_category_pivot.melt(id_vars=\"Genre\", var_name=\"Category\", value_name=\"Sentiment\")\n",
    "\n",
    "plt.figure(figsize=(14, 8))\n",
    "sns.barplot(x=\"Category\", y=\"Sentiment\", hue=\"Genre\", data=df_plot, palette=\"magma\")\n",
    "\n",
    "plt.title(\"Sentiment Scores by Category and Genre\")\n",
    "plt.xlabel(\"Category\")\n",
    "plt.ylabel(\"Sentiment\")\n",
    "plt.xticks(rotation=90)\n",
    "plt.legend(title=\"Genre\")\n",
    "\n",
    "plt.tight_layout()\n",
    "plt.show()"
   ]
  },
  {
   "cell_type": "code",
   "execution_count": null,
   "id": "46f092a2",
   "metadata": {},
   "outputs": [],
   "source": [
    "fig, axs = plt.subplots(2, 2, figsize=(10, 10))\n",
    "fig.suptitle(\"xyz\", fontsize=20)\n",
    "\n",
    "def boxplot_category(ax, genre, title):\n",
    "    labels, data = [*zip(*sentiment_aspect_category[genre].items())]  \n",
    "    labels, data = sentiment_aspect_category[genre].keys(), sentiment_aspect_category[genre].values()\n",
    "    ax.boxplot(data)\n",
    "    ax.set_xticklabels(labels)\n",
    "    ax.tick_params(axis=\"x\", rotation=90)\n",
    "    ax.set_title(title)\n",
    "\n",
    "boxplot_category(axs[0,0], \"R\", \"RPG\")\n",
    "boxplot_category(axs[0,1], \"A\", \"Action\")\n",
    "boxplot_category(axs[1,0], \"P\", \"Puzzle\")\n",
    "boxplot_category(axs[1,1], \"S\", \"Strategy\")\n",
    "\n",
    "plt.tight_layout()\n",
    "plt.show()"
   ]
  },
  {
   "cell_type": "markdown",
   "id": "dc150047",
   "metadata": {},
   "source": [
    "#### Polarized categories"
   ]
  },
  {
   "cell_type": "code",
   "execution_count": null,
   "id": "2f3614a1",
   "metadata": {},
   "outputs": [],
   "source": [
    "sentiment_category_df.sort_values(by=\"StdDev\", ascending=False).head(10)"
   ]
  },
  {
   "cell_type": "markdown",
   "id": "761e0bbb",
   "metadata": {},
   "source": [
    "## Game time and sentiment"
   ]
  },
  {
   "cell_type": "code",
   "execution_count": null,
   "id": "c22f6e58",
   "metadata": {},
   "outputs": [],
   "source": [
    "genre_category_time = {}\n",
    "for genre, playtime, features in zip(df[\"genre\"], df[\"playtime_at_review\"], df[\"feature\"]):\n",
    "    if genre not in genre_category_time:\n",
    "        genre_category_time[genre] = {}\n",
    "        \n",
    "    for feature in features:\n",
    "        if \"category\" in feature and \"sentiment\" in feature:\n",
    "            category = feature[\"category\"]\n",
    "            sentiment = feature[\"sentiment\"]\n",
    "            if category not in genre_category_time[genre]:\n",
    "                genre_category_time[genre][category] = []\n",
    "\n",
    "            genre_category_time[genre][category].append((sentiment, playtime))"
   ]
  },
  {
   "cell_type": "code",
   "execution_count": null,
   "id": "3c20c452",
   "metadata": {},
   "outputs": [],
   "source": [
    "playtime_sentiment_correlation = {}\n",
    "for genre, categories in genre_category_time.items():\n",
    "    playtime_sentiment_correlation[genre] = {}\n",
    "    for category, sentiments_playtimes in categories.items():\n",
    "        sentiments = [sentiment for sentiment, _ in sentiments_playtimes]\n",
    "        playtimes = [playtime for _, playtime in sentiments_playtimes]\n",
    "        if sentiments and playtimes and len(sentiments) > 1:  \n",
    "            correlation, _ = pearsonr(playtimes, sentiments)\n",
    "            playtime_sentiment_correlation[genre][category] = correlation"
   ]
  },
  {
   "cell_type": "code",
   "execution_count": null,
   "id": "32f750c8",
   "metadata": {},
   "outputs": [],
   "source": [
    "playtime_sentiment_correlation_df = pd.DataFrame(playtime_sentiment_correlation).T"
   ]
  },
  {
   "cell_type": "code",
   "execution_count": null,
   "id": "16087b8b",
   "metadata": {},
   "outputs": [],
   "source": [
    "plt.figure(figsize=(12, 8))\n",
    "sns.heatmap(playtime_sentiment_correlation_df, annot=True, cmap='PiYG')\n",
    "\n",
    "plt.title(\"Correlation between Sentiment Scores and Playtime by Category and Genre\")\n",
    "plt.xlabel(\"Category\")\n",
    "plt.ylabel(\"Genre\")\n",
    "plt.xticks(rotation=90, ha=\"right\")\n",
    "plt.yticks()\n",
    "plt.tight_layout()\n",
    "plt.show()"
   ]
  },
  {
   "cell_type": "markdown",
   "id": "480cb9aa",
   "metadata": {},
   "source": [
    "## Adj for the word \"game\""
   ]
  },
  {
   "cell_type": "code",
   "execution_count": null,
   "id": "41801d7e",
   "metadata": {},
   "outputs": [],
   "source": [
    "genre_game_adj = {}\n",
    "for genre, features in zip(df[\"genre\"], df[\"feature\"]):\n",
    "    if genre not in genre_game_adj:\n",
    "        genre_game_adj[genre] = []\n",
    "        \n",
    "    for feature in features:\n",
    "        if feature[\"feature\"] == \"game\" and \"sentiment\" in feature:\n",
    "            opinion = feature[\"opinion\"]\n",
    "            sentiment = feature[\"sentiment\"]\n",
    "            genre_game_adj[genre].append((opinion, sentiment))"
   ]
  },
  {
   "cell_type": "markdown",
   "id": "b59be850",
   "metadata": {},
   "source": [
    "#### Number of positive, negative, and neutral sentiments"
   ]
  },
  {
   "cell_type": "code",
   "execution_count": null,
   "id": "f7a1a138",
   "metadata": {},
   "outputs": [],
   "source": [
    "def sentiment_analysis(opinions):\n",
    "    positive, neutral, negative = 0, 0, 0\n",
    "    for opinion, sentiment in opinions:\n",
    "        if sentiment > 0:\n",
    "            positive += 1\n",
    "        elif sentiment < 0:\n",
    "            negative += 1\n",
    "        else:\n",
    "            neutral += 1\n",
    "    return positive, neutral, negative\n",
    "\n",
    "sentiment_distribution = {genre: sentiment_analysis(opinions) for genre, opinions in genre_game_adj.items()}"
   ]
  },
  {
   "cell_type": "code",
   "execution_count": null,
   "id": "2e6c6659",
   "metadata": {},
   "outputs": [],
   "source": [
    "plt.figure(figsize=(10, 6))\n",
    "\n",
    "genres = list(sentiment_distribution.keys())\n",
    "positive = np.array([sentiment_distribution[genre][0] for genre in genres])\n",
    "neutral = np.array([sentiment_distribution[genre][1] for genre in genres])\n",
    "negative = np.array([sentiment_distribution[genre][2] for genre in genres])\n",
    "\n",
    "plt.bar(genres, positive, color=\"#96d800\", label=\"Positive\")\n",
    "plt.bar(genres, neutral, bottom=positive, color=\"#fce655\", label=\"Neutral\")\n",
    "plt.bar(genres, negative, bottom=neutral + positive, color=\"#b20918\", label=\"Negative\")\n",
    "\n",
    "plt.tick_params(axis=\"x\", rotation=90)\n",
    "plt.xlabel('Genre')\n",
    "plt.ylabel('Sentiment score')\n",
    "plt.title('Sentiment distribution for the word \"game\" by genre')\n",
    "plt.legend()\n",
    "\n",
    "plt.show()"
   ]
  },
  {
   "cell_type": "markdown",
   "id": "bf5a80d9",
   "metadata": {},
   "source": [
    "#### Most frequent opinions"
   ]
  },
  {
   "cell_type": "code",
   "execution_count": null,
   "id": "837e941a",
   "metadata": {},
   "outputs": [],
   "source": [
    "common_opinions = {genre: Counter([opinion for opinion, _ in opinions]).most_common(5)\n",
    "                   for genre, opinions in genre_game_adj.items()}\n",
    "\n",
    "common_opinions"
   ]
  },
  {
   "cell_type": "markdown",
   "id": "0a79d800",
   "metadata": {},
   "source": [
    "#### Opinion Polarity Analysis"
   ]
  },
  {
   "cell_type": "code",
   "execution_count": null,
   "id": "e62ba899",
   "metadata": {},
   "outputs": [],
   "source": [
    "threshold = 0.5\n",
    "polarized_opinions = { 'positive': {}, 'negative': {} }\n",
    "\n",
    "for genre, opinions in genre_game_adj.items():\n",
    "    polarized_opinions['positive'][genre] = []\n",
    "    polarized_opinions['negative'][genre] = []\n",
    "\n",
    "    used_opinions = set()\n",
    "\n",
    "    for opinion, sentiment in opinions:\n",
    "        if sentiment > threshold and opinion not in used_opinions:\n",
    "            polarized_opinions['positive'][genre].append((opinion, sentiment))\n",
    "            used_opinions.add(opinion) \n",
    "        elif sentiment < -threshold and opinion not in used_opinions:\n",
    "            polarized_opinions['negative'][genre].append((opinion, sentiment))\n",
    "            used_opinions.add(opinion) \n",
    "\n",
    "    polarized_opinions['positive'][genre] = sorted(polarized_opinions['positive'][genre], key=lambda x: x[1], reverse=True)[:5]\n",
    "    polarized_opinions['negative'][genre] = sorted(polarized_opinions['negative'][genre], key=lambda x: x[1], reverse=False)[:5]\n",
    "\n",
    "for genre in polarized_opinions['positive']:\n",
    "    print(f\"Genre: {genre}\")\n",
    "    print(\"Top 5 Positive Opinions:\")\n",
    "    for opinion, sentiment in polarized_opinions['positive'][genre]:\n",
    "        print(f\"Opinion: '{opinion}', Sentiment: {sentiment}\")\n",
    "        \n",
    "    print(\"Top 5 Negative Opinions:\")\n",
    "    for opinion, sentiment in polarized_opinions['negative'][genre]:\n",
    "        print(f\"Opinion: '{opinion}', Sentiment: {sentiment}\")"
   ]
  },
  {
   "cell_type": "markdown",
   "id": "a8e28cbb",
   "metadata": {},
   "source": [
    "#### Wordcloud"
   ]
  },
  {
   "cell_type": "code",
   "execution_count": null,
   "id": "2c1a5194",
   "metadata": {},
   "outputs": [],
   "source": [
    "def plot_wordcloud(genre, opinions):\n",
    "    opinions_text = ' '.join(opinion for opinion, _ in opinions)\n",
    "    wordcloud = WordCloud(max_font_size = 220,\n",
    "                max_words = 100,\n",
    "                width = 1200,\n",
    "                height = 800,\n",
    "                background_color = \"black\",\n",
    "                colormap='RdPu_r').generate(opinions_text)\n",
    "\n",
    "    plt.figure(figsize=(10, 5))\n",
    "    plt.imshow(wordcloud, interpolation=\"bilinear\")\n",
    "    plt.axis(\"off\")\n",
    "    plt.title(f\"Word Cloud for Genre {genre}\", fontsize=16)\n",
    "    plt.show()\n",
    "\n",
    "for genre, opinions in genre_game_adj.items():\n",
    "    plot_wordcloud(genre, opinions)"
   ]
  },
  {
   "cell_type": "markdown",
   "id": "0d554984",
   "metadata": {},
   "source": [
    "## Overall opinion and sentiment towards certain aspects"
   ]
  },
  {
   "cell_type": "code",
   "execution_count": null,
   "id": "9aade1da",
   "metadata": {},
   "outputs": [],
   "source": [
    "sentiment_voted_up = {}\n",
    "for genre, votes, features in zip(df[\"genre\"], df[\"voted_up\"], df[\"feature\"]):\n",
    "    if genre not in sentiment_voted_up:\n",
    "        sentiment_voted_up[genre] = {}\n",
    "    \n",
    "    for feature in features:\n",
    "        if \"category\" in feature and \"sentiment\" in feature:\n",
    "            category = feature[\"category\"]\n",
    "            sentiment = feature[\"sentiment\"]\n",
    "            if votes not in sentiment_voted_up[genre]:\n",
    "                sentiment_voted_up[genre][votes] = {}\n",
    "            if category not in sentiment_voted_up[genre][votes]:\n",
    "                sentiment_voted_up[genre][votes][category] = []\n",
    "            sentiment_voted_up[genre][votes][category].append(sentiment)"
   ]
  },
  {
   "cell_type": "code",
   "execution_count": null,
   "id": "80a7a4a1",
   "metadata": {},
   "outputs": [],
   "source": [
    "plot_data = []\n",
    "for genre, votes_data in sentiment_voted_up.items():\n",
    "    for voted_up, categories in votes_data.items():\n",
    "        for category, sentiments in categories.items():\n",
    "            for sentiment in sentiments:\n",
    "                plot_data.append({\"Genre\": genre, \"Voted_up\": voted_up, \"Category\": category, \"Sentiment\": sentiment})\n",
    "\n",
    "df_plot = pd.DataFrame(plot_data)\n",
    "\n",
    "def boxplot_category(genre, title):\n",
    "    plt.figure(figsize=(14, 8))\n",
    "    df_plot_genre = df_plot[df_plot[\"Genre\"] == genre]\n",
    "    sns.boxplot(x=\"Category\", y=\"Sentiment\", hue=\"Voted_up\", data=df_plot_genre)\n",
    "    plt.tick_params(axis=\"x\", rotation=90)\n",
    "    plt.title(title)\n",
    "    plt.tight_layout()\n",
    "    plt.show()\n",
    "\n",
    "boxplot_category(\"R\", \"RPG\")\n"
   ]
  },
  {
   "cell_type": "code",
   "execution_count": null,
   "id": "b30ba14e",
   "metadata": {},
   "outputs": [],
   "source": [
    "boxplot_category(\"A\", \"Action\")"
   ]
  },
  {
   "cell_type": "code",
   "execution_count": null,
   "id": "0d7bfe89",
   "metadata": {},
   "outputs": [],
   "source": [
    "boxplot_category(\"P\", \"Puzzle\")"
   ]
  },
  {
   "cell_type": "code",
   "execution_count": null,
   "id": "3c8204ad",
   "metadata": {},
   "outputs": [],
   "source": [
    "boxplot_category(\"S\", \"Strategy\")"
   ]
  },
  {
   "cell_type": "code",
   "execution_count": null,
   "id": "0b230db6",
   "metadata": {},
   "outputs": [],
   "source": [
    "voted_up_data = []\n",
    "\n",
    "for genre, genre_dict in sentiment_voted_up.items():\n",
    "    for voted_up, voted_up_dict in genre_dict.items():\n",
    "        for category, category_list in voted_up_dict.items():\n",
    "            voted_up_data.append([genre, voted_up, category, len(category_list), np.mean(category_list),\n",
    "                                  np.median(category_list), np.var(category_list), np.std(category_list), \n",
    "                                  np.min(category_list), np.max(category_list)])\n",
    "\n",
    "voted_up_df = pd.DataFrame(voted_up_data, columns=[\"Genre\", \"Voted_up\", \"Category\", \"Count\", \"Mean\", \"Median\", \"Variance\", \"StdDev\", \"Min\", \"Max\"])\n",
    "\n",
    "voted_up_df"
   ]
  },
  {
   "cell_type": "code",
   "execution_count": null,
   "id": "16791a42",
   "metadata": {},
   "outputs": [],
   "source": [
    "overall_pos = voted_up_df[voted_up_df[\"Voted_up\"] == True]"
   ]
  },
  {
   "cell_type": "code",
   "execution_count": null,
   "id": "2648f30b",
   "metadata": {},
   "outputs": [],
   "source": [
    "overall_pos_pivot = overall_pos.pivot(\"Genre\", \"Category\", \"Mean\")\n",
    "plt.figure(figsize=(10, 6))\n",
    "sns.heatmap(overall_pos_pivot, annot=True, cmap=\"coolwarm\")\n",
    "plt.title(\"Average Sentiment Scores by Category and Genre in Voted Up review\")\n",
    "plt.xlabel(\"Category\")\n",
    "plt.ylabel(\"Genre\")\n",
    "plt.xticks(rotation=90)\n",
    "plt.yticks()\n",
    "plt.tight_layout()\n",
    "plt.show()"
   ]
  },
  {
   "cell_type": "code",
   "execution_count": null,
   "id": "405b0b42",
   "metadata": {},
   "outputs": [],
   "source": [
    "overall_neg = voted_up_df[voted_up_df[\"Voted_up\"] == False]"
   ]
  },
  {
   "cell_type": "code",
   "execution_count": null,
   "id": "1548bd2a",
   "metadata": {},
   "outputs": [],
   "source": [
    "overall_neg_pivot = overall_neg.pivot(\"Genre\", \"Category\", \"Mean\")\n",
    "plt.figure(figsize=(10, 6))\n",
    "sns.heatmap(round(overall_neg_pivot,2), annot=True, cmap=\"coolwarm\")\n",
    "plt.title(\"Average Sentiment Scores by Category and Genre in Voted down review\")\n",
    "plt.xlabel(\"Category\")\n",
    "plt.ylabel(\"Genre\")\n",
    "plt.xticks(rotation=90)\n",
    "plt.yticks()\n",
    "plt.tight_layout()\n",
    "plt.show()"
   ]
  },
  {
   "cell_type": "code",
   "execution_count": null,
   "id": "e0e5aeb0",
   "metadata": {
    "scrolled": true
   },
   "outputs": [],
   "source": [
    "correlation_voted = df_plot.groupby(['Genre', 'Category']).apply(lambda x: x[['Voted_up', 'Sentiment']].corr().iloc[0, 1]).reset_index(name='Correlation')"
   ]
  },
  {
   "cell_type": "code",
   "execution_count": null,
   "id": "4474e69e",
   "metadata": {},
   "outputs": [],
   "source": [
    "heatmap_voted = correlation_voted.pivot(\"Genre\", \"Category\", \"Correlation\")\n",
    "\n",
    "plt.figure(figsize=(10, 6))\n",
    "sns.heatmap(round(heatmap_voted,2), annot=True, cmap=\"coolwarm\")\n",
    "plt.title('Correlation between Voted_up and Sentiment by Genre and Category')\n",
    "plt.tight_layout()\n",
    "plt.show()"
   ]
  },
  {
   "cell_type": "code",
   "execution_count": null,
   "id": "1b8ab532",
   "metadata": {},
   "outputs": [],
   "source": []
  },
  {
   "cell_type": "code",
   "execution_count": null,
   "id": "40343e27",
   "metadata": {},
   "outputs": [],
   "source": []
  },
  {
   "cell_type": "code",
   "execution_count": null,
   "id": "bf7edcc6",
   "metadata": {},
   "outputs": [],
   "source": []
  },
  {
   "cell_type": "code",
   "execution_count": null,
   "id": "2fa762b6",
   "metadata": {},
   "outputs": [],
   "source": []
  }
 ],
 "metadata": {
  "kernelspec": {
   "display_name": "Python 3 (ipykernel)",
   "language": "python",
   "name": "python3"
  },
  "language_info": {
   "codemirror_mode": {
    "name": "ipython",
    "version": 3
   },
   "file_extension": ".py",
   "mimetype": "text/x-python",
   "name": "python",
   "nbconvert_exporter": "python",
   "pygments_lexer": "ipython3",
   "version": "3.11.0"
  }
 },
 "nbformat": 4,
 "nbformat_minor": 5
}
